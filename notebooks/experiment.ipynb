{
 "cells": [
  {
   "cell_type": "code",
   "execution_count": 1,
   "metadata": {},
   "outputs": [
    {
     "name": "stderr",
     "output_type": "stream",
     "text": [
      "/home/sagemaker-user/experiments/ragas_evalutor/.venv/lib/python3.12/site-packages/tqdm/auto.py:21: TqdmWarning: IProgress not found. Please update jupyter and ipywidgets. See https://ipywidgets.readthedocs.io/en/stable/user_install.html\n",
      "  from .autonotebook import tqdm as notebook_tqdm\n"
     ]
    }
   ],
   "source": [
    "import os\n",
    "import sys\n",
    "\n",
    "sys.path.append(\"../src\")\n",
    "\n",
    "from dotenv import load_dotenv\n",
    "\n",
    "from ragas.metrics import LLMContextRecall, Faithfulness, FactualCorrectness\n",
    "\n",
    "from application.llm_service import LLMService\n",
    "from infrastructure.text_embedding_pipeline import VectorStore\n",
    "from application.ragas_evaluator import RAGASEvaluator\n",
    "\n",
    "load_dotenv(\"../../secrets.env\")\n",
    "api_key = os.getenv(\"OPENAI_API_KEY\")\n",
    "file_path = \"../data/example.pdf\""
   ]
  },
  {
   "cell_type": "code",
   "execution_count": 2,
   "metadata": {},
   "outputs": [],
   "source": [
    "faiss_vector_store = VectorStore(api_key)\n",
    "open_ai_llm = LLMService(api_key)"
   ]
  },
  {
   "cell_type": "code",
   "execution_count": 3,
   "metadata": {},
   "outputs": [],
   "source": [
    "query_answer_pairs = {\n",
    "    \"What is the product?\": \"GROW\",\n",
    "}\n",
    "ragas_evaluator = RAGASEvaluator(\n",
    "    vector_store=faiss_vector_store,\n",
    "    llm_service=open_ai_llm,\n",
    "    query_answer_pairs=query_answer_pairs,\n",
    ")"
   ]
  },
  {
   "cell_type": "code",
   "execution_count": 4,
   "metadata": {},
   "outputs": [
    {
     "name": "stdout",
     "output_type": "stream",
     "text": [
      "Loading FAISS index from /home/sagemaker-user/experiments/ragas_evalutor/ragas_evaluation/faiss_index.\n",
      "Querying FAISS index with query: What is the product?\n",
      "Retrieved 3 results.\n",
      "Retrieved 3 relevant documents for query: What is the product?\n"
     ]
    }
   ],
   "source": [
    "ragas_evaluator.create_evaluation_dataset(top_k=3)"
   ]
  },
  {
   "cell_type": "code",
   "execution_count": 5,
   "metadata": {},
   "outputs": [
    {
     "name": "stderr",
     "output_type": "stream",
     "text": [
      "Evaluating: 100%|██████████| 3/3 [00:15<00:00,  5.25s/it]\n"
     ]
    },
    {
     "data": {
      "text/plain": [
       "{'context_recall': 1.0000, 'faithfulness': 1.0000, 'factual_correctness(mode=f1)': 0.1700}"
      ]
     },
     "execution_count": 5,
     "metadata": {},
     "output_type": "execute_result"
    }
   ],
   "source": [
    "ragas_evaluator.evaluate(\n",
    "    metrics=[LLMContextRecall(), Faithfulness(), FactualCorrectness()]\n",
    ")"
   ]
  },
  {
   "cell_type": "code",
   "execution_count": 6,
   "metadata": {},
   "outputs": [
    {
     "data": {
      "text/plain": [
       "SingleTurnSample(user_input='What is the product?', retrieved_contexts=['Grow – Product Summary \\nThis product summary is to be read in conjunction with the relevant investment term sheet, product \\nhighlights sheet and underlying fund’s prospectus applicable to this product. \\n \\n1 Introduction', '19 Important Notes \\nThis product summary does not form a part of any contract of insurance. It is intended only to be a simplified \\ndescription of the product features applicable to this plan and is not exhaustive. Please refer to the terms and \\nconditions for more detailed information.', 'https://faq.singlife.com \\n \\n Start a live chat at our website https://singlife.com \\n \\n service@singlife.com \\nhotline: \\n +65 6911 1111 \\n \\nsinglife.com  Singlife Grow  – Product Summary v3.2         Page 8 of 8'], reference_contexts=None, response='The product is \"Grow,\" which is provided by Singlife. It is an investment plan that has specific features and conditions, and it is accompanied by a relevant investment term sheet and other documentation such as a product highlights sheet and the underlying fund\\'s prospectus. The product summary serves as a simplified description of the plan\\'s features but is not exhaustive, so it\\'s important for potential customers to refer to the detailed terms and conditions for comprehensive information.', multi_responses=None, reference='GROW', rubrics=None)"
      ]
     },
     "execution_count": 6,
     "metadata": {},
     "output_type": "execute_result"
    }
   ],
   "source": [
    "ragas_evaluator.evaluation_dataset.samples[0]"
   ]
  },
  {
   "cell_type": "code",
   "execution_count": 7,
   "metadata": {},
   "outputs": [
    {
     "name": "stdout",
     "output_type": "stream",
     "text": [
      "Loading FAISS index from /home/sagemaker-user/experiments/ragas_evalutor/ragas_evaluation/faiss_index.\n",
      "Querying FAISS index with query: I need to withdraw money from my account, how can I do that?\n",
      "Retrieved 5 results.\n"
     ]
    }
   ],
   "source": [
    "answers = faiss_vector_store.retrieve_relevant_text(\n",
    "    \"I need to withdraw money from my account, how can I do that?\", top_k=5\n",
    ")"
   ]
  },
  {
   "cell_type": "code",
   "execution_count": 8,
   "metadata": {},
   "outputs": [],
   "source": [
    "from loguru import logger"
   ]
  },
  {
   "cell_type": "code",
   "execution_count": null,
   "metadata": {},
   "outputs": [],
   "source": []
  }
 ],
 "metadata": {
  "kernelspec": {
   "display_name": ".venv",
   "language": "python",
   "name": "python3"
  },
  "language_info": {
   "codemirror_mode": {
    "name": "ipython",
    "version": 3
   },
   "file_extension": ".py",
   "mimetype": "text/x-python",
   "name": "python",
   "nbconvert_exporter": "python",
   "pygments_lexer": "ipython3",
   "version": "3.12.9"
  }
 },
 "nbformat": 4,
 "nbformat_minor": 2
}
